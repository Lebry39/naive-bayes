{
 "cells": [
  {
   "cell_type": "code",
   "execution_count": 1,
   "metadata": {},
   "outputs": [],
   "source": [
    "import pandas as pd\n",
    "import time\n",
    "import numpy as np\n",
    "import math\n",
    "import re\n",
    "from bayes import NaiveBayes\n"
   ]
  },
  {
   "cell_type": "code",
   "execution_count": 2,
   "metadata": {},
   "outputs": [],
   "source": [
    "test_count = 200\n",
    "\n",
    "df = pd.read_table(\"./SMSSpamCollection.csv\", sep='\\t', header=None, names=['class', 'text'])\n",
    "df = df.sample(frac=1).reset_index(drop=True)\n",
    "# display(df)\n",
    "\n",
    "test_df = df[0:test_count]\n",
    "df = df[test_count:].reset_index(drop=True)\n",
    "\n",
    "obj = NaiveBayes()\n",
    "obj.fit(\"spam\", df[\"text\"][df[\"class\"] == \"spam\"])\n",
    "obj.fit(\"ham\", df[\"text\"][df[\"class\"] == \"ham\"])\n"
   ]
  },
  {
   "cell_type": "code",
   "execution_count": 3,
   "metadata": {},
   "outputs": [
    {
     "data": {
      "text/plain": [
       "{'spam': {}, 'ham': {}}"
      ]
     },
     "execution_count": 3,
     "metadata": {},
     "output_type": "execute_result"
    }
   ],
   "source": [
    "obj.calculated_word_scores"
   ]
  },
  {
   "cell_type": "code",
   "execution_count": 4,
   "metadata": {},
   "outputs": [
    {
     "name": "stdout",
     "output_type": "stream",
     "text": [
      "t= 0.04520416259765625\n",
      "\n",
      "Train:  5372\n",
      "SPAM count 26\n",
      "HAM count 174\n",
      "\n",
      "N: 200\n",
      "OK: 200\n",
      "NG: 0\n",
      "0.9999999500000025\n",
      "1.0\n"
     ]
    }
   ],
   "source": [
    "ok_count = 0\n",
    "ng_count = 0\n",
    "\n",
    "st = time.time()\n",
    "\n",
    "N = 0\n",
    "for doc in test_df.iloc:\n",
    "    p = obj.classify(doc[\"text\"])\n",
    "    is_spam = p[\"spam\"] > p[\"ham\"]\n",
    "        \n",
    "    N += 1\n",
    "\n",
    "    if is_spam:\n",
    "        label = \"spam\"\n",
    "    else:\n",
    "        label = \"ham\"\n",
    "        \n",
    "    if doc[\"class\"] == label:\n",
    "        ok_count += 1\n",
    "    else:\n",
    "        ng_count += 1\n",
    "        \n",
    "\n",
    "print(\"t=\", time.time() - st)\n",
    "print()\n",
    "\n",
    "print(\"Train: \", len(df))\n",
    "print(\"SPAM count\",len(test_df[\"text\"][test_df[\"class\"] == \"spam\"]))\n",
    "print(\"HAM count\",len(test_df[\"text\"][test_df[\"class\"] == \"ham\"]))\n",
    "print()\n",
    "\n",
    "print(\"N:\", N)\n",
    "print(\"OK:\", ok_count)\n",
    "print(\"NG:\", ng_count)\n",
    "print(ok_count / (ok_count + ng_count + 0.00001))\n",
    "print(ok_count / N)"
   ]
  },
  {
   "cell_type": "code",
   "execution_count": 34,
   "metadata": {},
   "outputs": [
    {
     "name": "stdout",
     "output_type": "stream",
     "text": [
      "{'spam': -151.5081900948173, 'ham': -168.82044184281256}\n",
      "This text is SPAM !!!\n"
     ]
    }
   ],
   "source": [
    "text = \"\"\"\n",
    "hello.\n",
    "my name is issei katayama\n",
    "\"\"\"\n",
    "\n",
    "scores = obj.classify(text.replace(\"\\n\", \"\"))\n",
    "\n",
    "print(scores)\n",
    "if scores[\"spam\"] > scores[\"ham\"]:\n",
    "    print(\"This text is SPAM !!!\")\n",
    "else:\n",
    "    print(\"The text is HAM\")"
   ]
  },
  {
   "cell_type": "code",
   "execution_count": null,
   "metadata": {},
   "outputs": [],
   "source": []
  }
 ],
 "metadata": {
  "kernelspec": {
   "display_name": "Python 3",
   "language": "python",
   "name": "python3"
  },
  "language_info": {
   "codemirror_mode": {
    "name": "ipython",
    "version": 3
   },
   "file_extension": ".py",
   "mimetype": "text/x-python",
   "name": "python",
   "nbconvert_exporter": "python",
   "pygments_lexer": "ipython3",
   "version": "3.7.7"
  }
 },
 "nbformat": 4,
 "nbformat_minor": 4
}
