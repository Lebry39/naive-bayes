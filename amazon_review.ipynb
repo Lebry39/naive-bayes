{
 "cells": [
  {
   "cell_type": "code",
   "execution_count": 1,
   "metadata": {},
   "outputs": [
    {
     "name": "stdout",
     "output_type": "stream",
     "text": [
      "Train 1753\n",
      "Test 500\n"
     ]
    }
   ],
   "source": [
    "import glob\n",
    "import random\n",
    "import pprint\n",
    "import bayes\n",
    "import pandas as pd\n",
    "import time\n",
    "\n",
    "def import_texts(category, paths):\n",
    "    data = []\n",
    "    for path in paths:\n",
    "        if \"LICENSE.txt\" in path:\n",
    "            continue\n",
    "        \n",
    "        with open(path, \"r\") as f:\n",
    "            s = f.read().split(\"\\n\")\n",
    "            s = \"\\n\".join(s[2:]) # テキストだけ抽出\n",
    "        \n",
    "        data.append({\n",
    "            \"label\": category,\n",
    "            \"text\": s\n",
    "        })\n",
    "    return data\n",
    "\n",
    "peachy = glob.glob(\"./text/peachy/*.txt\")\n",
    "livedoor = glob.glob(\"./text/livedoor-homme/*.txt\")\n",
    "sports = glob.glob(\"./text/sports-watch/*.txt\")\n",
    "\n",
    "dataset = []\n",
    "dataset += import_texts(\"peachy\", peachy)\n",
    "dataset += import_texts(\"livedoor\", livedoor)\n",
    "dataset += import_texts(\"sports\", sports)\n",
    "random.shuffle(dataset)\n",
    "\n",
    "test_count = 500\n",
    "test_data = pd.DataFrame(dataset[:test_count]) \n",
    "train_data = pd.DataFrame(dataset[test_count:])\n",
    "\n",
    "print(\"Train\", len(train_data))\n",
    "print(\"Test\", len(test_data))"
   ]
  },
  {
   "cell_type": "code",
   "execution_count": 2,
   "metadata": {},
   "outputs": [
    {
     "name": "stdout",
     "output_type": "stream",
     "text": [
      "CPU times: user 587 ms, sys: 7.2 ms, total: 595 ms\n",
      "Wall time: 594 ms\n"
     ]
    }
   ],
   "source": [
    "%%time\n",
    "\n",
    "bayes = bayes.NaiveBayes()\n",
    "bayes.fit(\"peachy\", test_data[\"text\"][test_data[\"label\"] == \"peachy\"])\n",
    "bayes.fit(\"livedoor\", test_data[\"text\"][test_data[\"label\"] == \"livedoor\"])\n",
    "bayes.fit(\"sports\", test_data[\"text\"][test_data[\"label\"] == \"sports\"])\n",
    "bayes.pre_calculate_word_score()\n",
    "\n",
    "\n",
    "#     CPU times: user 141 ms, sys: 3.92 ms, total: 145 ms\n",
    "#     Wall time: 144 ms\n"
   ]
  },
  {
   "cell_type": "code",
   "execution_count": 3,
   "metadata": {},
   "outputs": [
    {
     "data": {
      "text/plain": [
       "{'peachy': 3.440113233926474e-184,\n",
       " 'livedoor': 1.0766578428110421e-150,\n",
       " 'sports': 1.0}"
      ]
     },
     "execution_count": 3,
     "metadata": {},
     "output_type": "execute_result"
    }
   ],
   "source": [
    "bayes.classify(test_data[\"text\"][1])"
   ]
  },
  {
   "cell_type": "code",
   "execution_count": 4,
   "metadata": {},
   "outputs": [
    {
     "name": "stdout",
     "output_type": "stream",
     "text": [
      "OK 500\n",
      "NG 0\n",
      "正解率 1.0\n",
      "CPU times: user 859 ms, sys: 0 ns, total: 859 ms\n",
      "Wall time: 858 ms\n"
     ]
    }
   ],
   "source": [
    "%%time\n",
    "\n",
    "ok = 0\n",
    "ng = 0\n",
    "\n",
    "for d in test_data.iloc:\n",
    "    ans = bayes.classify(d[\"text\"])\n",
    "    \n",
    "    max_p = max(ans.values())\n",
    "    label = [k for k, v in ans.items() if v == max_p][0]\n",
    "    \n",
    "    if d[\"label\"] == label:\n",
    "        ok += 1\n",
    "    else:\n",
    "        ng += 1\n",
    "    \n",
    "#     print(d[\"text\"][:50])\n",
    "#     print(label, d[\"label\"])\n",
    "#     print(ans)\n",
    "#     print()\n",
    "\n",
    "print(\"OK\", ok)\n",
    "print(\"NG\", ng)\n",
    "print(\"正解率\", ok / (ok + ng))\n",
    "\n",
    "\n",
    "#     CPU times: user 270 ms, sys: 3.94 ms, total: 274 ms\n",
    "#     Wall time: 273 ms\n"
   ]
  },
  {
   "cell_type": "code",
   "execution_count": 10,
   "metadata": {},
   "outputs": [
    {
     "name": "stdout",
     "output_type": "stream",
     "text": [
      "CPU times: user 1.36 ms, sys: 28 µs, total: 1.38 ms\n",
      "Wall time: 1.39 ms\n"
     ]
    },
    {
     "data": {
      "text/plain": [
       "{'peachy': 1.0,\n",
       " 'livedoor': 3.83389826751383e-21,\n",
       " 'sports': 1.466711241502399e-38}"
      ]
     },
     "execution_count": 10,
     "metadata": {},
     "output_type": "execute_result"
    }
   ],
   "source": [
    "%%time\n",
    "\n",
    "bayes.classify(\"\"\"\n",
    "ふんわりとした雰囲気で周囲を癒してくれる、「癒し系ふわふわ女子」。\n",
    "同性から見てもうっとりしてしまうような可愛さを持っているふわふわ女子は、男性からも高評価のようです。\n",
    "どうしたら「癒し系ふわふわ女子」になることができるのでしょうか。\n",
    "今回は、男を虜にさせる「癒し系ふわふわ女子」になってみる？ をテーマにご紹介していきます。\n",
    "\"\"\")"
   ]
  },
  {
   "cell_type": "code",
   "execution_count": null,
   "metadata": {},
   "outputs": [],
   "source": []
  }
 ],
 "metadata": {
  "kernelspec": {
   "display_name": "Python 3",
   "language": "python",
   "name": "python3"
  },
  "language_info": {
   "codemirror_mode": {
    "name": "ipython",
    "version": 3
   },
   "file_extension": ".py",
   "mimetype": "text/x-python",
   "name": "python",
   "nbconvert_exporter": "python",
   "pygments_lexer": "ipython3",
   "version": "3.7.7"
  }
 },
 "nbformat": 4,
 "nbformat_minor": 4
}
