{
 "cells": [
  {
   "cell_type": "code",
   "execution_count": 1,
   "metadata": {},
   "outputs": [
    {
     "name": "stdout",
     "output_type": "stream",
     "text": [
      "Train 1753\n",
      "Test 500\n"
     ]
    }
   ],
   "source": [
    "import glob\n",
    "import random\n",
    "import pprint\n",
    "import bayes\n",
    "import pandas as pd\n",
    "import time\n",
    "\n",
    "def import_texts(category, paths):\n",
    "    data = []\n",
    "    for path in paths:\n",
    "        if \"LICENSE.txt\" in path:\n",
    "            continue\n",
    "        \n",
    "        with open(path, \"r\") as f:\n",
    "            s = f.read().split(\"\\n\")\n",
    "            s = \"\\n\".join(s[2:]) # テキストだけ抽出\n",
    "        \n",
    "        data.append({\n",
    "            \"label\": category,\n",
    "            \"text\": s\n",
    "        })\n",
    "    return data\n",
    "\n",
    "peachy = glob.glob(\"./text/peachy/*.txt\")\n",
    "livedoor = glob.glob(\"./text/livedoor-homme/*.txt\")\n",
    "sports = glob.glob(\"./text/sports-watch/*.txt\")\n",
    "\n",
    "dataset = []\n",
    "dataset += import_texts(\"peachy\", peachy)\n",
    "dataset += import_texts(\"livedoor\", livedoor)\n",
    "dataset += import_texts(\"sports\", sports)\n",
    "random.shuffle(dataset)\n",
    "\n",
    "test_count = 500\n",
    "test_data = pd.DataFrame(dataset[:test_count]) \n",
    "train_data = pd.DataFrame(dataset[test_count:])\n",
    "\n",
    "print(\"Train\", len(train_data))\n",
    "print(\"Test\", len(test_data))"
   ]
  },
  {
   "cell_type": "code",
   "execution_count": 2,
   "metadata": {},
   "outputs": [
    {
     "name": "stdout",
     "output_type": "stream",
     "text": [
      "CPU times: user 667 ms, sys: 36 ms, total: 703 ms\n",
      "Wall time: 710 ms\n"
     ]
    }
   ],
   "source": [
    "%%time\n",
    "\n",
    "bayes = bayes.NaiveBayes()\n",
    "bayes.fit(\"peachy\", test_data[\"text\"][test_data[\"label\"] == \"peachy\"])\n",
    "bayes.fit(\"livedoor\", test_data[\"text\"][test_data[\"label\"] == \"livedoor\"])\n",
    "bayes.fit(\"sports\", test_data[\"text\"][test_data[\"label\"] == \"sports\"])\n",
    "\n",
    "\n",
    "#     CPU times: user 141 ms, sys: 3.92 ms, total: 145 ms\n",
    "#     Wall time: 144 ms\n"
   ]
  },
  {
   "cell_type": "code",
   "execution_count": 5,
   "metadata": {},
   "outputs": [
    {
     "data": {
      "text/plain": [
       "{'peachy': 1.0, 'livedoor': 0.0, 'sports': 0.0}"
      ]
     },
     "execution_count": 5,
     "metadata": {},
     "output_type": "execute_result"
    }
   ],
   "source": [
    "bayes.classify(test_data[\"text\"][1])"
   ]
  },
  {
   "cell_type": "code",
   "execution_count": 4,
   "metadata": {},
   "outputs": [
    {
     "name": "stdout",
     "output_type": "stream",
     "text": [
      "正解率 0.996\n",
      "CPU times: user 1.34 s, sys: 445 µs, total: 1.34 s\n",
      "Wall time: 1.34 s\n"
     ]
    }
   ],
   "source": [
    "%%time\n",
    "\n",
    "ok = 0\n",
    "ng = 0\n",
    "\n",
    "for d in test_data.iloc:\n",
    "    ans = bayes.classify(d[\"text\"])\n",
    "    \n",
    "    max_p = max(ans.values())\n",
    "    label = [k for k, v in ans.items() if v == max_p][0]\n",
    "    \n",
    "    if d[\"label\"] == label:\n",
    "        ok += 1\n",
    "    else:\n",
    "        ng += 1\n",
    "    \n",
    "#     print(d[\"text\"][:50])\n",
    "#     print(label, d[\"label\"])\n",
    "#     print(ans)\n",
    "#     print()\n",
    "\n",
    "print(\"正解率\", ok / (ok + ng))\n",
    "\n",
    "\n",
    "#     CPU times: user 270 ms, sys: 3.94 ms, total: 274 ms\n",
    "#     Wall time: 273 ms\n"
   ]
  },
  {
   "cell_type": "code",
   "execution_count": null,
   "metadata": {},
   "outputs": [],
   "source": []
  },
  {
   "cell_type": "code",
   "execution_count": null,
   "metadata": {},
   "outputs": [],
   "source": []
  }
 ],
 "metadata": {
  "kernelspec": {
   "display_name": "Python 3",
   "language": "python",
   "name": "python3"
  },
  "language_info": {
   "codemirror_mode": {
    "name": "ipython",
    "version": 3
   },
   "file_extension": ".py",
   "mimetype": "text/x-python",
   "name": "python",
   "nbconvert_exporter": "python",
   "pygments_lexer": "ipython3",
   "version": "3.7.7"
  }
 },
 "nbformat": 4,
 "nbformat_minor": 4
}
