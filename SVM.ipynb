{
 "cells": [
  {
   "cell_type": "code",
   "execution_count": 1,
   "metadata": {},
   "outputs": [],
   "source": [
    "import pandas as pd\n",
    "import time\n",
    "import numpy as np\n",
    "import math\n",
    "import re\n",
    "import bayes \n",
    "\n",
    "import numpy as np\n",
    "from sklearn.pipeline import make_pipeline\n",
    "from sklearn.preprocessing import StandardScaler\n",
    "from sklearn.svm import LinearSVC, SVC\n"
   ]
  },
  {
   "cell_type": "code",
   "execution_count": 2,
   "metadata": {},
   "outputs": [],
   "source": [
    "test_count = 1000\n",
    "\n",
    "df = pd.read_table(\"./SMSSpamCollection.csv\", sep='\\t', header=None, names=['class', 'text'])\n",
    "df = df.sample(frac=1).reset_index(drop=True)\n",
    "# df = df.iloc[0:3000]\n",
    "# display(df)\n",
    "\n",
    "test_df = df[0:test_count]\n",
    "df = df[test_count:].reset_index(drop=True)"
   ]
  },
  {
   "cell_type": "code",
   "execution_count": 3,
   "metadata": {},
   "outputs": [
    {
     "data": {
      "text/plain": [
       "(4572, 2)"
      ]
     },
     "metadata": {},
     "output_type": "display_data"
    },
    {
     "data": {
      "text/plain": [
       "(1000, 2)"
      ]
     },
     "metadata": {},
     "output_type": "display_data"
    }
   ],
   "source": [
    "display(df.shape)\n",
    "display(test_df.shape)"
   ]
  },
  {
   "cell_type": "code",
   "execution_count": 4,
   "metadata": {},
   "outputs": [],
   "source": [
    "obj = bayes.TfidfVec()\n",
    "obj.fit(df[\"text\"])\n",
    "# obj.vec_tfidf.transform([\"text asdas d\"]).toarray()"
   ]
  },
  {
   "cell_type": "code",
   "execution_count": 5,
   "metadata": {},
   "outputs": [
    {
     "name": "stderr",
     "output_type": "stream",
     "text": [
      "/home/lbry39/anaconda3/envs/py37/lib/python3.7/site-packages/sklearn/svm/_base.py:977: ConvergenceWarning: Liblinear failed to converge, increase the number of iterations.\n",
      "  \"the number of iterations.\", ConvergenceWarning)\n"
     ]
    },
    {
     "data": {
      "text/plain": [
       "Pipeline(steps=[('standardscaler', StandardScaler()),\n",
       "                ('linearsvc', LinearSVC())])"
      ]
     },
     "execution_count": 5,
     "metadata": {},
     "output_type": "execute_result"
    }
   ],
   "source": [
    "x = []\n",
    "y = []\n",
    "for d in df.iloc:\n",
    "    text = d[\"text\"]\n",
    "    label = d[\"class\"]\n",
    "    \n",
    "    if label == \"spam\":\n",
    "        y.append(1)\n",
    "    else:\n",
    "        y.append(2)\n",
    "    \n",
    "    x.append(obj.vectorize_text(text))\n",
    "\n",
    "x = np.array(x)\n",
    "y = np.array(y)\n",
    "\n",
    "clf = make_pipeline(StandardScaler(), LinearSVC())\n",
    "clf.fit(x, y)"
   ]
  },
  {
   "cell_type": "code",
   "execution_count": 6,
   "metadata": {},
   "outputs": [
    {
     "name": "stdout",
     "output_type": "stream",
     "text": [
      "t= 0.713029146194458\n",
      "\n",
      "Train:  4572\n",
      "SPAM count 131\n",
      "HAM count 869\n",
      "\n",
      "N: 1000\n",
      "OK: 979\n",
      "NG: 21\n",
      "0.979\n"
     ]
    }
   ],
   "source": [
    "ok_count = 0\n",
    "ng_count = 0\n",
    "\n",
    "st = time.time()\n",
    "\n",
    "N = 0\n",
    "a = test_df#[test_df[\"class\"] == \"spam\"]\n",
    "for doc in a.iloc:    \n",
    "    x = obj.vectorize_text(doc[\"text\"])\n",
    "    y = clf.predict([x])\n",
    "    \n",
    "    if y == [1]:\n",
    "        is_spam = True\n",
    "    else:\n",
    "        is_spam = False\n",
    "        \n",
    "    N += 1\n",
    "\n",
    "    if is_spam:\n",
    "        label = \"spam\"\n",
    "    else:\n",
    "        label = \"ham\"\n",
    "        \n",
    "    if doc[\"class\"] == label:\n",
    "        ok_count += 1\n",
    "    else:\n",
    "        ng_count += 1\n",
    "        \n",
    "\n",
    "print(\"t=\", time.time() - st)\n",
    "print()\n",
    "\n",
    "print(\"Train: \", len(df))\n",
    "print(\"SPAM count\",len(test_df[\"text\"][test_df[\"class\"] == \"spam\"]))\n",
    "print(\"HAM count\",len(test_df[\"text\"][test_df[\"class\"] == \"ham\"]))\n",
    "print()\n",
    "\n",
    "print(\"N:\", N)\n",
    "print(\"OK:\", ok_count)\n",
    "print(\"NG:\", ng_count)\n",
    "print(ok_count / N)"
   ]
  },
  {
   "cell_type": "code",
   "execution_count": 4,
   "metadata": {},
   "outputs": [],
   "source": [
    "# Results\n",
    "# 0.992\n",
    "\n",
    "# NaiveBayes\n",
    "# N: 500\n",
    "# OK: 497\n",
    "# NG: 3\n",
    "# 0.9939999801200005\n",
    "# 0.994"
   ]
  },
  {
   "cell_type": "code",
   "execution_count": 27,
   "metadata": {},
   "outputs": [
    {
     "name": "stdout",
     "output_type": "stream",
     "text": [
      "This text is SPAM !!!\n"
     ]
    }
   ],
   "source": [
    "text = \"\"\"\n",
    "\tJanuary Male Sale! Hot Gay chat now cheaper, c...\n",
    "\"\"\"\n",
    "\n",
    "x = obj.vectorize_text(text)\n",
    "y = clf.predict([x])\n",
    "if y == [1]:\n",
    "    print(\"This text is SPAM !!!\")\n",
    "else:\n",
    "    print(\"The text is HAM\")"
   ]
  },
  {
   "cell_type": "code",
   "execution_count": 23,
   "metadata": {},
   "outputs": [
    {
     "data": {
      "text/html": [
       "<div>\n",
       "<style scoped>\n",
       "    .dataframe tbody tr th:only-of-type {\n",
       "        vertical-align: middle;\n",
       "    }\n",
       "\n",
       "    .dataframe tbody tr th {\n",
       "        vertical-align: top;\n",
       "    }\n",
       "\n",
       "    .dataframe thead th {\n",
       "        text-align: right;\n",
       "    }\n",
       "</style>\n",
       "<table border=\"1\" class=\"dataframe\">\n",
       "  <thead>\n",
       "    <tr style=\"text-align: right;\">\n",
       "      <th></th>\n",
       "      <th>class</th>\n",
       "      <th>text</th>\n",
       "    </tr>\n",
       "  </thead>\n",
       "  <tbody>\n",
       "    <tr>\n",
       "      <th>100</th>\n",
       "      <td>ham</td>\n",
       "      <td>I've been barred from all B and Q stores for l...</td>\n",
       "    </tr>\n",
       "    <tr>\n",
       "      <th>101</th>\n",
       "      <td>spam</td>\n",
       "      <td>Boltblue tones for 150p Reply POLY# or MONO# e...</td>\n",
       "    </tr>\n",
       "    <tr>\n",
       "      <th>102</th>\n",
       "      <td>spam</td>\n",
       "      <td>January Male Sale! Hot Gay chat now cheaper, c...</td>\n",
       "    </tr>\n",
       "    <tr>\n",
       "      <th>103</th>\n",
       "      <td>ham</td>\n",
       "      <td>Good afternoon sunshine! How dawns that day ? ...</td>\n",
       "    </tr>\n",
       "    <tr>\n",
       "      <th>104</th>\n",
       "      <td>ham</td>\n",
       "      <td>Yun buying... But school got offer 2000 plus o...</td>\n",
       "    </tr>\n",
       "    <tr>\n",
       "      <th>105</th>\n",
       "      <td>ham</td>\n",
       "      <td>For you information, IKEA is spelled with all ...</td>\n",
       "    </tr>\n",
       "    <tr>\n",
       "      <th>106</th>\n",
       "      <td>ham</td>\n",
       "      <td>Neshanth..tel me who r u?</td>\n",
       "    </tr>\n",
       "    <tr>\n",
       "      <th>107</th>\n",
       "      <td>ham</td>\n",
       "      <td>I've been trying to reach him without success</td>\n",
       "    </tr>\n",
       "    <tr>\n",
       "      <th>108</th>\n",
       "      <td>ham</td>\n",
       "      <td>Yes when is the appt again?</td>\n",
       "    </tr>\n",
       "    <tr>\n",
       "      <th>109</th>\n",
       "      <td>ham</td>\n",
       "      <td>I'm at work. Please call</td>\n",
       "    </tr>\n",
       "  </tbody>\n",
       "</table>\n",
       "</div>"
      ],
      "text/plain": [
       "    class                                               text\n",
       "100   ham  I've been barred from all B and Q stores for l...\n",
       "101  spam  Boltblue tones for 150p Reply POLY# or MONO# e...\n",
       "102  spam  January Male Sale! Hot Gay chat now cheaper, c...\n",
       "103   ham  Good afternoon sunshine! How dawns that day ? ...\n",
       "104   ham  Yun buying... But school got offer 2000 plus o...\n",
       "105   ham  For you information, IKEA is spelled with all ...\n",
       "106   ham                          Neshanth..tel me who r u?\n",
       "107   ham      I've been trying to reach him without success\n",
       "108   ham                        Yes when is the appt again?\n",
       "109   ham                           I'm at work. Please call"
      ]
     },
     "execution_count": 23,
     "metadata": {},
     "output_type": "execute_result"
    }
   ],
   "source": [
    "test_df.iloc[100:110]"
   ]
  },
  {
   "cell_type": "code",
   "execution_count": null,
   "metadata": {},
   "outputs": [],
   "source": []
  }
 ],
 "metadata": {
  "kernelspec": {
   "display_name": "Python 3",
   "language": "python",
   "name": "python3"
  },
  "language_info": {
   "codemirror_mode": {
    "name": "ipython",
    "version": 3
   },
   "file_extension": ".py",
   "mimetype": "text/x-python",
   "name": "python",
   "nbconvert_exporter": "python",
   "pygments_lexer": "ipython3",
   "version": "3.7.7"
  }
 },
 "nbformat": 4,
 "nbformat_minor": 4
}
