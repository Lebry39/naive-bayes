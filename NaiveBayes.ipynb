{
 "cells": [
  {
   "cell_type": "code",
   "execution_count": 4,
   "metadata": {},
   "outputs": [],
   "source": [
    "import pandas as pd\n",
    "import time\n",
    "import numpy as np\n",
    "import math\n",
    "import re\n",
    "import bayes \n"
   ]
  },
  {
   "cell_type": "code",
   "execution_count": 5,
   "metadata": {},
   "outputs": [],
   "source": [
    "test_count = 1000\n",
    "\n",
    "df = pd.read_table(\"./SMSSpamCollection.csv\", sep='\\t', header=None, names=['class', 'text'])\n",
    "df = df.sample(frac=1).reset_index(drop=True)\n",
    "# display(df)\n",
    "\n",
    "test_df = df[0:test_count]\n",
    "df = df[test_count:].reset_index(drop=True)\n",
    "\n",
    "obj = bayes.NaiveBayes()\n",
    "# obj = bayes.CNB()\n",
    "obj.fit(\"spam\", df[\"text\"][df[\"class\"] == \"spam\"])\n",
    "obj.fit(\"ham\", df[\"text\"][df[\"class\"] == \"ham\"])\n"
   ]
  },
  {
   "cell_type": "code",
   "execution_count": 6,
   "metadata": {},
   "outputs": [
    {
     "name": "stdout",
     "output_type": "stream",
     "text": [
      "t= 0.1443493366241455\n",
      "\n",
      "Train:  4572\n",
      "SPAM count 141\n",
      "HAM count 859\n",
      "\n",
      "N: 1000\n",
      "OK: 985\n",
      "NG: 15\n",
      "0.985\n"
     ]
    }
   ],
   "source": [
    "ok_count = 0\n",
    "ng_count = 0\n",
    "\n",
    "st = time.time()\n",
    "\n",
    "N = 0\n",
    "a = test_df#test_df[\"class\"] == \"spam\"]\n",
    "for doc in a.iloc:\n",
    "    p = obj.classify(doc[\"text\"])\n",
    "    is_spam = p[\"spam\"] > p[\"ham\"]\n",
    "        \n",
    "    N += 1\n",
    "\n",
    "    if is_spam:\n",
    "        label = \"spam\"\n",
    "    else:\n",
    "        label = \"ham\"\n",
    "        \n",
    "    if doc[\"class\"] == label:\n",
    "        ok_count += 1\n",
    "    else:\n",
    "        ng_count += 1\n",
    "        \n",
    "\n",
    "print(\"t=\", time.time() - st)\n",
    "print()\n",
    "\n",
    "print(\"Train: \", len(df))\n",
    "print(\"SPAM count\",len(test_df[\"text\"][test_df[\"class\"] == \"spam\"]))\n",
    "print(\"HAM count\",len(test_df[\"text\"][test_df[\"class\"] == \"ham\"]))\n",
    "print()\n",
    "\n",
    "print(\"N:\", N)\n",
    "print(\"OK:\", ok_count)\n",
    "print(\"NG:\", ng_count)\n",
    "print(ok_count / N)"
   ]
  },
  {
   "cell_type": "code",
   "execution_count": 4,
   "metadata": {},
   "outputs": [],
   "source": [
    "# Results\n",
    "\n",
    "# NaiveBayes\n",
    "# N: 500\n",
    "# OK: 497\n",
    "# NG: 3\n",
    "# 0.9939999801200005\n",
    "# 0.994"
   ]
  },
  {
   "cell_type": "code",
   "execution_count": 36,
   "metadata": {},
   "outputs": [
    {
     "name": "stdout",
     "output_type": "stream",
     "text": [
      "{'spam': 0.014538701436747362, 'ham': 0.9854612985632527}\n",
      "The text is HAM\n"
     ]
    }
   ],
   "source": [
    "text = \"\"\"\n",
    "hello.\n",
    "\"\"\"\n",
    "\n",
    "scores = obj.classify(text.replace(\"\\n\", \"\"))\n",
    "\n",
    "print(scores)\n",
    "if scores[\"spam\"] > scores[\"ham\"]:\n",
    "    print(\"This text is SPAM !!!\")\n",
    "else:\n",
    "    print(\"The text is HAM\")"
   ]
  },
  {
   "cell_type": "code",
   "execution_count": null,
   "metadata": {},
   "outputs": [],
   "source": []
  },
  {
   "cell_type": "code",
   "execution_count": null,
   "metadata": {},
   "outputs": [],
   "source": []
  }
 ],
 "metadata": {
  "kernelspec": {
   "display_name": "Python 3",
   "language": "python",
   "name": "python3"
  },
  "language_info": {
   "codemirror_mode": {
    "name": "ipython",
    "version": 3
   },
   "file_extension": ".py",
   "mimetype": "text/x-python",
   "name": "python",
   "nbconvert_exporter": "python",
   "pygments_lexer": "ipython3",
   "version": "3.7.7"
  }
 },
 "nbformat": 4,
 "nbformat_minor": 4
}
